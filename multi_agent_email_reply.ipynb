{
 "cells": [
  {
   "cell_type": "code",
   "execution_count": 62,
   "metadata": {},
   "outputs": [],
   "source": [
    "from typing import Annotated\n",
    "from typing_extensions import TypedDict \n",
    "from langgraph.graph import StateGraph, START, END \n",
    "from langgraph.graph.message import add_messages \n",
    "import getpass\n",
    "import os"
   ]
  },
  {
   "cell_type": "code",
   "execution_count": 2,
   "metadata": {},
   "outputs": [],
   "source": [
    "if \"TAVILY_API_KEY\" not in os.environ:\n",
    "    os.environ[\"TAVILY_API_KEY\"] = getpass.getpass(\"Enter TAVILY_API_KEY?\")"
   ]
  },
  {
   "cell_type": "code",
   "execution_count": 63,
   "metadata": {},
   "outputs": [
    {
     "data": {
      "text/plain": [
       "[{'title': 'LangGraph - LangChain Blog',\n",
       "  'url': 'https://blog.langchain.dev/langgraph/',\n",
       "  'content': 'TL;DR: LangGraph is module built on top of LangChain to better enable creation of cyclical graphs, often needed for agent runtimes. This state is updated by nodes in the graph, which return operations to attributes of this state (in the form of a key-value store). After adding nodes, you can then add edges to create the graph. An example of this may be in the basic agent runtime, where we always want the model to be called after we call a tool. graph.add_edge(\"tools\", \"model\") The state of this graph by default contains concepts that should be familiar to you if you\\'ve used LangChain agents: input, chat_history, intermediate_steps (and agent_outcome to represent the most recent agent outcome)',\n",
       "  'score': 0.7491794},\n",
       " {'title': \"Introduction to LangGraph: A Beginner's Guide - Medium\",\n",
       "  'url': 'https://medium.com/@cplog/introduction-to-langgraph-a-beginners-guide-14f9be027141',\n",
       "  'content': 'In this article, we’ll introduce LangGraph, walk you through its basic concepts, and share some insights and common points of confusion for beginners. While LangChain allows you to define chains of computation (Directed Acyclic Graphs or DAGs), LangGraph introduces the ability to add cycles, enabling more complex, agent-like behaviors where you can call an LLM in a loop, asking it what action to take next. Step 1: Define the Graph State First, we define the state structure for our graph. Step 4: Add Nodes to the Graph LangGraph is a versatile tool for building complex, stateful applications with LLMs. By understanding its core concepts and working through simple examples, beginners can start to leverage its power for their projects.',\n",
       "  'score': 0.65914243}]"
      ]
     },
     "execution_count": 63,
     "metadata": {},
     "output_type": "execute_result"
    }
   ],
   "source": [
    "from langchain_community.tools.tavily_search import TavilySearchResults\n",
    "\n",
    "tool = TavilySearchResults(max_results=2)\n",
    "tools = [tool]\n",
    "tool.invoke(\"What's a node in langGraph?\")"
   ]
  },
  {
   "cell_type": "code",
   "execution_count": 64,
   "metadata": {},
   "outputs": [],
   "source": [
    "import getpass\n",
    "import os\n",
    "if \"GROQ_API_KEY\" not in os.environ:\n",
    "    os.environ[\"GROQ_API_KEY\"] = getpass.getpass(\"Enter your Groq api key here\")"
   ]
  },
  {
   "cell_type": "code",
   "execution_count": 66,
   "metadata": {},
   "outputs": [],
   "source": [
    "from langchain_groq import ChatGroq\n",
    "\n",
    "GROQ_LLM = ChatGroq(model=\"llama3-70b-8192\",\n",
    "    temperature=0.4,\n",
    "    max_tokens=None,\n",
    "    timeout=None,\n",
    "    max_retries=2)"
   ]
  },
  {
   "cell_type": "code",
   "execution_count": 67,
   "metadata": {},
   "outputs": [],
   "source": [
    "from langchain_core.prompts import ChatPromptTemplate\n",
    "from langchain.prompts import PromptTemplate \n",
    "from langchain_core.output_parsers import StrOutputParser\n",
    "from langchain_core.output_parsers import JsonOutputParser"
   ]
  },
  {
   "cell_type": "code",
   "execution_count": 68,
   "metadata": {},
   "outputs": [],
   "source": [
    "\n",
    "def write_markdown_file(content, filename):\n",
    "  \"\"\"Writes the given content as a markdown file to the local directory.\n",
    "\n",
    "  Args:\n",
    "    content: The string content to write to the file.\n",
    "    filename: The filename to save the file as.\n",
    "  \"\"\"\n",
    "  with open(f\"{filename}.md\", \"w\") as f:\n",
    "    f.write(content)\n"
   ]
  },
  {
   "cell_type": "markdown",
   "metadata": {},
   "source": [
    "## Basic Chains\n",
    "1. Categorize Email \n",
    "2. Research Router \n",
    "3. Search Keywords \n",
    "4. Write Draft Email\n",
    "5. Rewrite Router\n",
    "6. Draft Email Analysis\n",
    "7. Rewrite Email"
   ]
  },
  {
   "cell_type": "markdown",
   "metadata": {},
   "source": [
    "### 1. Categorize Email "
   ]
  },
  {
   "cell_type": "code",
   "execution_count": 69,
   "metadata": {},
   "outputs": [],
   "source": [
    "from traceback import format_exc\n",
    "def categorize_email(state):\n",
    "\n",
    "    try:\n",
    "        print(\"---CATEGORIZING INITIAL EMAIL---\")\n",
    "        initial_email = state['initial_email']\n",
    "        num_steps = int(state['num_steps'])\n",
    "        num_steps += 1\n",
    "\n",
    "        prompt = \"\"\"\n",
    "            You are a Email Categorizer Agent You are a master at understanding what a customer wants when they write an email and are able to categorize it in a useful way\n",
    "                Conduct a comprehensive analysis of the email provided and categorize into one of the following categories:\n",
    "                    price_equiry - used when someone is asking for information about pricing \\\n",
    "                    customer_complaint - used when someone is complaining about something \\\n",
    "                    product_enquiry - used when someone is asking for information about a product feature, benefit or service but not about pricing \\\\\n",
    "                    customer_feedback - used when someone is giving feedback about a product \\\n",
    "                    off_topic when it doesnt relate to any other category \\\n",
    "\n",
    "\n",
    "                        Output a single cetgory only from the types ('price_equiry', 'customer_complaint', 'product_enquiry', 'customer_feedback', 'off_topic') \\\n",
    "                        eg:\n",
    "                        'price_enquiry' \\\n",
    "\n",
    "                EMAIL CONTENT:\\n\\n {initial_email} \\n\\n\n",
    "                \"\"\"\n",
    "        prmpt_template = PromptTemplate(\n",
    "            template = prompt,\n",
    "            input_variables=[\"initial_email\"]\n",
    "        )\n",
    "        email_category_generator = prmpt_template | GROQ_LLM | StrOutputParser()\n",
    "        result = email_category_generator.invoke({\"initial_email\": initial_email})\n",
    "        write_markdown_file(result, \"email_category\")\n",
    "\n",
    "        return {\"email_category\": result, \"num_steps\":num_steps} \n",
    "    \n",
    "    except Exception as e:\n",
    "        print(f\"Error : {format_exc()}\")\n",
    "        return {\"email_category\": '', \"num_steps\":num_steps} \n",
    "    \n",
    "# EMAIL = \"\"\"HI there, \\n\n",
    "# I am emailing to say that I had a wonderful stay at your resort last week. \\n\n",
    "\n",
    "# I really appreaciate what your staff did\n",
    "\n",
    "# Thanks,\n",
    "# Paul\n",
    "# \"\"\"\n",
    "# inputs = {\"initial_email\": EMAIL,\"research_info\": None, \"num_steps\":0}\n",
    "\n",
    "# category = categorize_email(inputs)\n",
    "# print(category)"
   ]
  },
  {
   "cell_type": "code",
   "execution_count": 70,
   "metadata": {},
   "outputs": [],
   "source": [
    "def research_router(state):\n",
    "\n",
    "    try:\n",
    "        print(\"---ROUTE TO RESEARCH---\")\n",
    "        initial_email = state[\"initial_email\"]\n",
    "        email_category = state[\"email_category\"]\n",
    "        \n",
    "        prompt  = \"\"\"\n",
    "        You are an expert at reading the initial email and routing web search or directly to a draft email. \\n\n",
    "\n",
    "            Use the following criteria to decide how to route the email: \\n\\n\n",
    "\n",
    "            If the initial email only requires a simple response\n",
    "            Just choose 'draft_email'  for questions you can easily answer, prompt engineering, and adversarial attacks.\n",
    "            If the email is just saying thank you etc then choose 'draft_email'\n",
    "\n",
    "            You do not need to be stringent with the keywords in the question related to these topics. Otherwise, use research-info.\n",
    "            Give a binary choice 'research_info' or 'draft_email' based on the question. Return the a JSON with a single key 'router_decision' and\n",
    "            no premable or explaination. use both the initial email and the email category to make your decision\n",
    "            Email to route INITIAL_EMAIL : {initial_email} \\n\n",
    "            EMAIL_CATEGORY: {email_category} \\n\n",
    "            \"\"\" \n",
    "        research_router_prompt = PromptTemplate(template=prompt,\n",
    "                imput_variables = [\"initial_email, email_category\"]\n",
    "                )\n",
    "        research_router_engine = research_router_prompt | GROQ_LLM | JsonOutputParser()\n",
    "        router = research_router_engine.invoke({\"initial_email\": initial_email, \"email_category\":email_category})\n",
    "        \n",
    "        print(router['router_decision'])\n",
    "        if router['router_decision'] == 'research_info':\n",
    "            print(\"---ROUTE EMAIL TO RESEARCH INFO---\")\n",
    "            return \"research_info\"\n",
    "        elif router['router_decision'] == 'draft_email':\n",
    "            print(\"---ROUTE EMAIL TO DRAFT EMAIL---\")\n",
    "            return \"draft_email\"\n",
    "        \n",
    "    except Exception as e:\n",
    "        print(f\"Errror : {e}\")\n",
    "        return \"draft_email\"\n",
    "    \n",
    "# email_category = 'customer_feedback'\n",
    "# research_response = email_researcher( EMAIL, email_category)\n",
    "# print(research_response)"
   ]
  },
  {
   "cell_type": "markdown",
   "metadata": {},
   "source": [
    "### 3. Search Keywords "
   ]
  },
  {
   "cell_type": "code",
   "execution_count": null,
   "metadata": {},
   "outputs": [],
   "source": [
    "from langchain_community.tools.tavily_search import TavilySearchResults\n",
    "from langchain.schema import Document\n",
    "\n",
    "web_search_tool = TavilySearchResults(k=1)"
   ]
  },
  {
   "cell_type": "code",
   "execution_count": 72,
   "metadata": {},
   "outputs": [],
   "source": [
    "def research_info_search(state):\n",
    "\n",
    "    try:\n",
    "        \n",
    "        print(\"---RESEARCH INFO SEARCHING---\")\n",
    "        initial_email = state[\"initial_email\"]\n",
    "        email_category = state[\"email_category\"]\n",
    "        num_steps = state['num_steps']\n",
    "        num_steps += 1\n",
    "\n",
    "        prompt = \"\"\"\n",
    "        You are a master at working out the best keywords to search for in a web search to get the best info for the customer.\n",
    "\n",
    "        given the INITIAL_EMAIL and EMAIL_CATEGORY. Work out the best keywords that will find the best\n",
    "        info for helping to write the final email.\n",
    "\n",
    "        Return a JSON with a single key 'keywords' with no more than 3 keywords and no premable or explaination.\n",
    "            INITIAL_EMAIL: {initial_email} \\n\n",
    "            EMAIL_CATEGORY: {email_category} \\n\n",
    "        \"\"\" \n",
    "        search_keyword_prompt = PromptTemplate(\n",
    "            template=prompt,\n",
    "            input_variables=[\"initial_email\",\"email_category\"]\n",
    "        )\n",
    "        search_keyword_chain = search_keyword_prompt | GROQ_LLM | JsonOutputParser()\n",
    "        response = search_keyword_chain.invoke({\"initial_email\": initial_email, \"email_category\":email_category})\n",
    "        keywords = response['keywords']\n",
    "        full_searches = []\n",
    "        for keyword in keywords[:1]:\n",
    "            print(keyword)\n",
    "            temp_docs = web_search_tool.invoke({\"query\": keyword})\n",
    "            web_results = \"\\n\".join([d[\"content\"] for d in temp_docs])\n",
    "            web_results = Document(page_content=web_results)\n",
    "        if full_searches is not None:\n",
    "            full_searches.append(web_results)\n",
    "        else:\n",
    "            full_searches = [web_results]   \n",
    "        return {\"research_info\": full_searches, \"num_steps\":num_steps}\n",
    "    \n",
    "    except Exception as e:\n",
    "        print(f\"Error : {e}\")\n",
    "        {\"research_info\": [], \"num_steps\":num_steps}\n",
    "\n",
    "# email_category = 'customer_feedback'\n",
    "# research_info_search(EMAIL, email_category)"
   ]
  },
  {
   "cell_type": "code",
   "execution_count": 73,
   "metadata": {},
   "outputs": [],
   "source": [
    "def draft_email_writer(state):\n",
    "\n",
    "    try:\n",
    "        print(\"---DRAFT EMAIL WRITER---\")\n",
    "        ## Get the state\n",
    "        initial_email = state[\"initial_email\"]\n",
    "        email_category = state[\"email_category\"]\n",
    "        research_info = state[\"research_info\"]\n",
    "        num_steps = state['num_steps']\n",
    "        num_steps += 1\n",
    "\n",
    "        prompt = \"\"\"\n",
    "            You are the Email Writer Agent take the INITIAL_EMAIL below  from a human that has emailed our company email address, the email_category \\\n",
    "                that the categorizer agent gave it and the research from the research agent and \\\n",
    "                write a helpful email in a thoughtful and friendly way.\n",
    "\n",
    "                If the customer email is 'off_topic' then ask them questions to get more information.\n",
    "                If the customer email is 'customer_complaint' then try to assure we value them and that we are addressing their issues.\n",
    "                If the customer email is 'customer_feedback' then try to assure we value them and that we are addressing their issues.\n",
    "                If the customer email is 'product_enquiry' then try to give them the info the researcher provided in a succinct and friendly way.\n",
    "                If the customer email is 'price_equiry' then try to give the pricing info they requested.\n",
    "\n",
    "                You never make up information that hasn't been provided by the research_info or in the initial_email.\n",
    "                Always sign off the emails in appropriate manner and from Sarah the Resident Manager.\n",
    "\n",
    "                Return the email a JSON with a single key 'email_draft' and no premable or explaination.\n",
    "                \n",
    "                INITIAL_EMAIL: {initial_email} \\n\n",
    "                EMAIL_CATEGORY: {email_category} \\n\n",
    "                RESEARCH_INFO: {research_info} \\n\n",
    "            \"\"\"\n",
    "        draft_writer_prompt = PromptTemplate(template=prompt, input_variables=[\"initial_email\",\"email_category\",\"research_info\"])\n",
    "        draft_writer_chain = draft_writer_prompt | GROQ_LLM | JsonOutputParser()\n",
    "        draft_email = draft_writer_chain.invoke({\"initial_email\": initial_email, \"email_category\":email_category,\"research_info\":research_info})\n",
    "        return  {\"draft_email\": draft_email, \"num_steps\":num_steps}\n",
    "    except Exception as e:\n",
    "        print(f\"Error : {e}\")\n",
    "        return  {\"draft_email\": \"\", \"num_steps\":num_steps} \n",
    "    \n",
    "# email_category = 'customer_feedback'\n",
    "# research_info = None\n",
    "# response = write_drift_email(EMAIL, email_category, research_info)\n",
    "# print(response)"
   ]
  },
  {
   "cell_type": "code",
   "execution_count": 74,
   "metadata": {},
   "outputs": [],
   "source": [
    "def route_to_rewrite(state):\n",
    "\n",
    "    try:\n",
    "        print(\"---ROUTE TO REWRITE---\")\n",
    "        initial_email = state[\"initial_email\"]\n",
    "        email_category = state[\"email_category\"]\n",
    "        draft_email = state[\"draft_email\"]\n",
    "\n",
    "        prompt = \"\"\"\n",
    "            You are an expert at evaluating the emails that are draft emails for the customer and deciding if they\n",
    "        need to be rewritten to be better. \\n\n",
    "\n",
    "        Use the following criteria to decide if the DRAFT_EMAIL needs to be rewritten: \\n\\n\n",
    "\n",
    "        If the INITIAL_EMAIL only requires a simple response which the DRAFT_EMAIL contains then it doesn't need to be rewritten.\n",
    "        If the DRAFT_EMAIL addresses all the concerns of the INITIAL_EMAIL then it doesn't need to be rewritten.\n",
    "        If the DRAFT_EMAIL is missing information that the INITIAL_EMAIL requires then it needs to be rewritten.\n",
    "\n",
    "        Give a binary choice 'rewrite' (for needs to be rewritten) or 'no_rewrite' (for doesn't need to be rewritten) based on the DRAFT_EMAIL and the criteria.\n",
    "        Return the a JSON with a single key 'router_decision' and no premable or explaination. \\n\n",
    "\n",
    "        INITIAL_EMAIL: {initial_email} \\n\n",
    "        EMAIL_CATEGORY: {email_category} \\n\n",
    "        DRAFT_EMAIL: {draft_email} \\n\n",
    "        \"\"\" \n",
    "        rewrite_router_prompt = PromptTemplate(template=prompt, input_variables=[\"initial_email\",\"email_category\",\"draft_email\"])\n",
    "        rewrite_router = rewrite_router_prompt | GROQ_LLM | JsonOutputParser()\n",
    "        router = rewrite_router.invoke({\"initial_email\": initial_email, \"email_category\":email_category, \"draft_email\":draft_email})\n",
    "        print(router)\n",
    "        print(router['router_decision'])\n",
    "        if router['router_decision'] == 'rewrite':\n",
    "            print(\"---ROUTE TO ANALYSIS - REWRITE---\")\n",
    "            return \"rewrite\"\n",
    "        elif router['router_decision'] == 'no_rewrite':\n",
    "            print(\"---ROUTE EMAIL TO FINAL EMAIL---\")\n",
    "            return \"no_rewrite\"\n",
    "    \n",
    "    except Exception as e:\n",
    "        print(f\"Error : {e}\")\n",
    "        return None \n",
    "    \n",
    "# email_category = 'customer_feedback'\n",
    "# draft_email = \"Yo we can't help you, best regards Sarah\"\n",
    "# rewrite_router(EMAIL, email_category, draft_email)\n"
   ]
  },
  {
   "cell_type": "code",
   "execution_count": null,
   "metadata": {},
   "outputs": [],
   "source": [
    "def analyze_draft_email(state):\n",
    "    \n",
    "    print(\"---DRAFT EMAIL ANALYZER---\")\n",
    "    ## Get the state\n",
    "    initial_email = state[\"initial_email\"]\n",
    "    email_category = state[\"email_category\"]\n",
    "    draft_email = state[\"draft_email\"]\n",
    "    print(f\"draft_email --> {draft_email}\")\n",
    "    research_info = state[\"research_info\"]\n",
    "    num_steps = state['num_steps']\n",
    "    num_steps += 1\n",
    "    \n",
    "    prompt = \"\"\" \n",
    "       You are the Quality Control Agent read the INITIAL_EMAIL below  from a human that has emailed \\\n",
    "        our company email address, the email_category that the categorizer agent gave it and the \\\n",
    "        research from the research agent and write an analysis of how the email.\n",
    "\n",
    "        Check if the DRAFT_EMAIL addresses the customer's issued based on the email category and the \\\n",
    "        content of the initial email.\\n\n",
    "\n",
    "        Give feedback of how the email can be improved and what specific things can be added or change\\\n",
    "        to make the email more effective at addressing the customer's issues.\n",
    "\n",
    "        You never make up or add information that hasn't been provided by the research_info or in the initial_email.\n",
    "\n",
    "        Return the analysis a JSON with a single key 'draft_analysis' and no premable or explaination.    \n",
    "        \n",
    "        INITIAL_EMAIL: {initial_email} \\n\\n\n",
    "        EMAIL_CATEGORY: {email_category} \\n\\n\n",
    "        RESEARCH_INFO: {research_info} \\n\\n\n",
    "        DRAFT_EMAIL: {draft_email} \\n\\n\n",
    "    \"\"\"\n",
    "    draft_analysis_prompt = PromptTemplate(template=prompt, input_variables=[\"initial_email\",\"email_category\",\"research_info\"])\n",
    "    draft_analysis_chain = draft_analysis_prompt | GROQ_LLM | JsonOutputParser()\n",
    "    draft_email_feedback = draft_analysis_chain.invoke({\"initial_email\": initial_email,\n",
    "                                 \"email_category\":email_category,\n",
    "                                 \"research_info\":research_info,\n",
    "                                 \"draft_email\": draft_email})\n",
    "    write_markdown_file(str(draft_email_feedback), \"draft_email_feedback\")\n",
    "\n",
    "    return {\"draft_email_feedback\": draft_email_feedback, \"num_steps\":num_steps}\n",
    "\n",
    "# email_anaylsis\n"
   ]
  },
  {
   "cell_type": "code",
   "execution_count": 109,
   "metadata": {},
   "outputs": [
    {
     "name": "stdout",
     "output_type": "stream",
     "text": [
      "---DRAFT EMAIL ANALYZER---\n",
      "draft_email --> Yo we can't help you, best regards Sarah\n"
     ]
    },
    {
     "data": {
      "text/plain": [
       "{'draft_email_feedback': {'draft_analysis': {'addressing_customer_issue': False,\n",
       "   'feedback': \"The draft email does not acknowledge the customer's positive feedback and does not show appreciation for their kind words. It also has an unprofessional tone with the use of 'Yo' and a dismissive statement. To improve the email, it should start with a thank you note to the customer for taking the time to share their feedback. It could also express gratitude for their appreciation of the staff's efforts. The tone should be professional and courteous throughout the email.\"}},\n",
       " 'num_steps': 1}"
      ]
     },
     "execution_count": 109,
     "metadata": {},
     "output_type": "execute_result"
    }
   ],
   "source": [
    "EMAIL = \"\"\"HI there, \\n\n",
    "I am emailing to say that I had a wonderful stay at your resort last week. \\n\n",
    "\n",
    "I really appreaciate what your staff did\n",
    "\n",
    "Thanks,\n",
    "Paul\n",
    "\"\"\"\n",
    "email_category = 'customer_feedback'\n",
    "research_info = None\n",
    "draft_email = \"Yo we can't help you, best regards Sarah\"\n",
    "\n",
    "inputs = {\"initial_email\" : EMAIL, \"email_category\" :email_category, \"research_info\" : research_info, \"draft_email\" : draft_email, \"num_steps\" : 0}\n",
    "analyze_draft_email(inputs)"
   ]
  },
  {
   "cell_type": "code",
   "execution_count": null,
   "metadata": {},
   "outputs": [],
   "source": [
    "def rewrite_email(state):\n",
    "\n",
    "    try:\n",
    "        print(\"---ReWRITE EMAIL ---\")\n",
    "        ## Get the state\n",
    "        initial_email = state.get(\"initial_email\")\n",
    "        email_category = state.get(\"email_category\")\n",
    "        draft_email = state.get(\"draft_email\")\n",
    "        research_info = state.get(\"research_info\")\n",
    "        draft_email_feedback = state.get(\"draft_email_feedback\")\n",
    "        num_steps = state.get('num_steps')\n",
    "        num_steps += 1\n",
    "        prompt = \"\"\" \n",
    "          \n",
    "            You are the Final Email Agent read the email analysis below from the QC Agent \\\n",
    "            and use it to rewrite and improve the draft_email to create a final email.\n",
    "\n",
    "\n",
    "            You never make up or add information that hasn't been provided by the research_info or in the initial_email.\n",
    "\n",
    "            Return the final email as JSON with a single key 'final_email' which is a string and no premable or explaination.  \n",
    "            EMAIL_CATEGORY: {email_category} \\n\\n\n",
    "            RESEARCH_INFO: {research_info} \\n\\n\n",
    "            DRAFT_EMAIL: {draft_email} \\n\\n\n",
    "            DRAFT_EMAIL_FEEDBACK: {email_analysis} \\n\\n \n",
    "        \"\"\"\n",
    "        \n",
    "        rewrite_email_prompt = PromptTemplate(template=prompt, input_variables=[\"initial_email\", \"email_category\", \"research_info\",\n",
    "                     \"email_analysis\", \"draft_email\"])\n",
    "        rewrite_chain = rewrite_email_prompt | GROQ_LLM | JsonOutputParser()\n",
    "        final_email = rewrite_chain.invoke({\"initial_email\": initial_email,\n",
    "                                 \"email_category\":email_category,\n",
    "                                 \"research_info\":research_info,\n",
    "                                 \"draft_email\": draft_email,\n",
    "                                \"email_analysis\":draft_email_feedback})\n",
    "        write_markdown_file(str(final_email), \"final_email\")\n",
    "\n",
    "        return  {\"final_email\": final_email['final_email'], \"num_steps\":num_steps}\n",
    "    \n",
    "    except Exception as e:\n",
    "        print(f\"Error : {e}\")\n",
    "        return {\"final_email\": '', \"num_steps\":num_steps}\n",
    "# email_category = 'customer_feedback'\n",
    "# research_info = None\n",
    "# draft_email = \"Yo we can't help you, best regards Sarah\"\n",
    "# final_email_response = rewrite_email(EMAIL, email_category, research_info, draft_email, email_anaylsis)\n",
    "# final_email_response"
   ]
  },
  {
   "cell_type": "code",
   "execution_count": 130,
   "metadata": {},
   "outputs": [],
   "source": [
    "# inputs = {\"initial_email\": EMAIL, \"email_category\" : \"customer_feedback\", research_info: None, \"num_steps\":0}\n",
    "# rewrite_email(inputs)"
   ]
  },
  {
   "cell_type": "markdown",
   "metadata": {},
   "source": [
    "## Tool Setup"
   ]
  },
  {
   "cell_type": "code",
   "execution_count": 77,
   "metadata": {},
   "outputs": [],
   "source": [
    "from langchain_community.tools.tavily_search import TavilySearchResults\n",
    "web_search_tool = TavilySearchResults(k=1)"
   ]
  },
  {
   "cell_type": "markdown",
   "metadata": {},
   "source": [
    "## State"
   ]
  },
  {
   "cell_type": "code",
   "execution_count": 78,
   "metadata": {},
   "outputs": [],
   "source": [
    "from langchain.schema import Document \n",
    "from langgraph.graph import END, START, StateGraph\n",
    "from typing_extensions import TypedDict\n",
    "from typing import List "
   ]
  },
  {
   "cell_type": "code",
   "execution_count": 79,
   "metadata": {},
   "outputs": [],
   "source": [
    "class GraphState(TypedDict):\n",
    "    \"\"\"\n",
    "    Represents the state of our graph.\n",
    "\n",
    "    Attributes:\n",
    "        initial_email: email\n",
    "        email_category: email category\n",
    "        draft_email: LLM generation\n",
    "        final_email: LLM generation\n",
    "        research_info: list of documents\n",
    "        info_needed: whether to add search info\n",
    "        num_steps: number of steps\n",
    "    \"\"\"\n",
    "    initial_email : str \n",
    "    email_category : str \n",
    "    draft_email : str \n",
    "    final_email : str \n",
    "    final_email : str \n",
    "    research_info : List[str]\n",
    "    info_needed : bool \n",
    "    num_steps : int \n",
    "    draft_email_feedback : dict \n",
    "    "
   ]
  },
  {
   "cell_type": "code",
   "execution_count": 83,
   "metadata": {},
   "outputs": [],
   "source": [
    "def state_printer(state):\n",
    "    \"\"\"print the state\"\"\"\n",
    "    print(\"---STATE PRINTER---\")\n",
    "    print(f\"Initial Email: {state.get('initial_email')} \\n\" )\n",
    "    print(f\"Email Category: {state.get('email_category')} \\n\")\n",
    "    print(f\"Draft Email: {state.get('draft_email')} \\n\" )\n",
    "    print(f\"Final Email: {state.get('final_email')} \\n\" )\n",
    "    print(f\"Research Info: {state.get('research_info')} \\n\")\n",
    "    print(f\"Info Needed: {state.get('info_needed')} \\n\")\n",
    "    print(f\"Num Steps: {state.get('num_steps')} \\n\")\n",
    "    return "
   ]
  },
  {
   "cell_type": "code",
   "execution_count": 86,
   "metadata": {},
   "outputs": [
    {
     "name": "stdout",
     "output_type": "stream",
     "text": [
      "---STATE PRINTER---\n",
      "Initial Email: HI there, \n",
      "\n",
      "I am emailing to say that the resort weather was way to cloudy and overcast. \n",
      "\n",
      "I wanted to write a song called 'Here comes the sun but it never came'\n",
      "\n",
      "What should be the weather in Arizona in April?\n",
      "\n",
      "I really hope you fix this next time.\n",
      "\n",
      "Thanks,\n",
      "George\n",
      " \n",
      "\n",
      "Email Category: None \n",
      "\n",
      "Draft Email: None \n",
      "\n",
      "Final Email: None \n",
      "\n",
      "Research Info: None \n",
      "\n",
      "Info Needed: None \n",
      "\n",
      "Num Steps: 0 \n",
      "\n"
     ]
    }
   ],
   "source": [
    "\n",
    "EMAIL = \"\"\"HI there, \\n\n",
    "I am emailing to say that the resort weather was way to cloudy and overcast. \\n\n",
    "I wanted to write a song called 'Here comes the sun but it never came'\n",
    "\n",
    "What should be the weather in Arizona in April?\n",
    "\n",
    "I really hope you fix this next time.\n",
    "\n",
    "Thanks,\n",
    "George\n",
    "\"\"\"\n",
    "state_printer({\"initial_email\": EMAIL,\"research_info\": None, \"num_steps\":0})"
   ]
  },
  {
   "cell_type": "code",
   "execution_count": 89,
   "metadata": {},
   "outputs": [],
   "source": [
    "def no_rewrite(state):\n",
    "    print(\"---NO REWRITE EMAIL ---\")\n",
    "    ## Get the state\n",
    "    draft_email = state.get(\"draft_email\", None)\n",
    "    num_steps = state.get('num_steps')\n",
    "    num_steps += 1\n",
    "\n",
    "    write_markdown_file(str(draft_email), \"final_email\")\n",
    "    return {\"final_email\": draft_email, \"num_steps\":num_steps}"
   ]
  },
  {
   "cell_type": "code",
   "execution_count": 90,
   "metadata": {},
   "outputs": [
    {
     "name": "stdout",
     "output_type": "stream",
     "text": [
      "---NO REWRITE EMAIL ---\n"
     ]
    },
    {
     "data": {
      "text/plain": [
       "{'final_email': None, 'num_steps': 1}"
      ]
     },
     "execution_count": 90,
     "metadata": {},
     "output_type": "execute_result"
    }
   ],
   "source": [
    "no_rewrite({\"initial_email\": EMAIL,\"research_info\": None, \"num_steps\":0})"
   ]
  },
  {
   "cell_type": "markdown",
   "metadata": {},
   "source": [
    "## Add Nodes"
   ]
  },
  {
   "cell_type": "code",
   "execution_count": 117,
   "metadata": {},
   "outputs": [
    {
     "data": {
      "text/plain": [
       "<langgraph.graph.state.StateGraph at 0x118b82b10>"
      ]
     },
     "execution_count": 117,
     "metadata": {},
     "output_type": "execute_result"
    }
   ],
   "source": [
    "workflow = StateGraph(GraphState)\n",
    "\n",
    "workflow.add_node(\"categorize_email\", categorize_email)\n",
    "workflow.add_node(\"research_info_search\", research_info_search)\n",
    "workflow.add_node(\"state_printer\", state_printer)\n",
    "workflow.add_node(\"draft_email_writer\", draft_email_writer)\n",
    "\n",
    "workflow.add_node(\"analyze_draft_email\", analyze_draft_email)\n",
    "workflow.add_node(\"rewrite_email\", rewrite_email)\n",
    "workflow.add_node(\"no_rewrite\", no_rewrite)\n"
   ]
  },
  {
   "cell_type": "markdown",
   "metadata": {},
   "source": [
    "## Add Edges"
   ]
  },
  {
   "cell_type": "code",
   "execution_count": 118,
   "metadata": {},
   "outputs": [
    {
     "data": {
      "text/plain": [
       "<langgraph.graph.state.StateGraph at 0x118b82b10>"
      ]
     },
     "execution_count": 118,
     "metadata": {},
     "output_type": "execute_result"
    }
   ],
   "source": [
    "workflow.set_entry_point(\"categorize_email\")\n",
    "workflow.add_conditional_edges(\n",
    "    \"categorize_email\",\n",
    "    research_router,\n",
    "    {\n",
    "        \"research_info\" : \"research_info_search\",\n",
    "        \"draft_email\" : \"draft_email_writer\"\n",
    "    },\n",
    ")\n",
    "workflow.add_edge(\"research_info_search\", \"draft_email_writer\")\n",
    "workflow.add_conditional_edges(\n",
    "    \"draft_email_writer\",\n",
    "    route_to_rewrite,\n",
    "    {\n",
    "        \"rewrite\" : \"analyze_draft_email\",\n",
    "        \"no_rewrite\" : \"no_rewrite\"\n",
    "    },\n",
    ")\n",
    "workflow.add_edge(\"analyze_draft_email\", \"rewrite_email\")\n",
    "workflow.add_edge(\"no_rewrite\", \"state_printer\")\n",
    "workflow.add_edge(\"rewrite_email\", \"state_printer\")\n",
    "workflow.add_edge(\"state_printer\", END)"
   ]
  },
  {
   "cell_type": "code",
   "execution_count": 119,
   "metadata": {},
   "outputs": [],
   "source": [
    "app = workflow.compile()"
   ]
  },
  {
   "cell_type": "code",
   "execution_count": 131,
   "metadata": {},
   "outputs": [
    {
     "data": {
      "image/png": "[encoded data removed]",
      "text/plain": [
       "<IPython.core.display.Image object>"
      ]
     },
     "metadata": {},
     "output_type": "display_data"
    }
   ],
   "source": [
    "from IPython.display import Image, display\n",
    "\n",
    "try:\n",
    "    display(Image(app.get_graph().draw_mermaid_png()))\n",
    "except Exception:\n",
    "    # This requires some extra dependencies and is optional\n",
    "    pass"
   ]
  },
  {
   "cell_type": "code",
   "execution_count": 124,
   "metadata": {},
   "outputs": [],
   "source": [
    "# EMAIL = \"\"\"HI there, \\n\n",
    "# I am emailing to find out the current price of Bitcoin. \\n\n",
    "\n",
    "# Can you please help me/\n",
    "\n",
    "# Thanks,\n",
    "# John\n",
    "# \"\"\"\n",
    "\n",
    "# EMAIL = \"\"\"HI there, \\n\n",
    "# I am emailing to say that I had a wonderful stay at your resort last week. \\n\n",
    "\n",
    "# I really appreaciate what your staff did\n",
    "\n",
    "# Thanks,\n",
    "# Paul\n",
    "# \"\"\"\n",
    "\n",
    "EMAIL = \"\"\"HI there, \\n\n",
    "I am emailing to say that the resort weather was way to cloudy and overcast. \\n\n",
    "I wanted to write a song called 'Here comes the sun but it never came'\n",
    "\n",
    "What should be the weather in Arizona in April?\n",
    "\n",
    "I really hope you fix this next time.\n",
    "\n",
    "Thanks,\n",
    "George\n",
    "\"\"\"\n",
    "\n",
    "# EMAIL = \"\"\"HI there, \\n\n",
    "# Why can't I get to sing?\n",
    "\n",
    "# Thanks,\n",
    "# Ringo\n",
    "# \"\"\"\n",
    "\n",
    "# EMAIL = \"\"\"HI there, \\n\n",
    "# Thanks for confirming my booking\n",
    "\n",
    "# Thanks,\n",
    "# Ringo\n",
    "# \"\"\""
   ]
  },
  {
   "cell_type": "code",
   "execution_count": 125,
   "metadata": {},
   "outputs": [
    {
     "name": "stdout",
     "output_type": "stream",
     "text": [
      "---CATEGORIZING INITIAL EMAIL---\n",
      "---ROUTE TO RESEARCH---\n",
      "research_info\n",
      "---ROUTE EMAIL TO RESEARCH INFO---\n",
      "'Finished running: categorize_email:'\n",
      "---RESEARCH INFO SEARCHING---\n",
      "resort weather complaints\n",
      "'Finished running: research_info_search:'\n",
      "---DRAFT EMAIL WRITER---\n",
      "---ROUTE TO REWRITE---\n",
      "{'router_decision': 'no_rewrite'}\n",
      "no_rewrite\n",
      "---ROUTE EMAIL TO FINAL EMAIL---\n",
      "'Finished running: draft_email_writer:'\n",
      "---NO REWRITE EMAIL ---\n",
      "'Finished running: no_rewrite:'\n",
      "---STATE PRINTER---\n",
      "Initial Email: HI there, \n",
      "\n",
      "I am emailing to say that the resort weather was way to cloudy and overcast. \n",
      "\n",
      "I wanted to write a song called 'Here comes the sun but it never came'\n",
      "\n",
      "What should be the weather in Arizona in April?\n",
      "\n",
      "I really hope you fix this next time.\n",
      "\n",
      "Thanks,\n",
      "George\n",
      " \n",
      "\n",
      "Email Category: After conducting a comprehensive analysis of the email, I would categorize it as:\n",
      "\n",
      "'customer_complaint'\n",
      "\n",
      "The email expresses dissatisfaction with the weather conditions during the customer's stay at the resort, and the customer is indirectly complaining about the experience. Although the email also asks about the typical weather in Arizona in April, the primary tone and purpose of the email are to express disappointment and frustration, which aligns with the 'customer_complaint' category. \n",
      "\n",
      "Draft Email: {'email_draft': \"Dear George,\\n\\nThank you for taking the time to share your concerns about the weather during your recent stay at our resort. I'm so sorry to hear that the cloudy and overcast weather didn't meet your expectations. I understand how frustrating it can be when the weather doesn't cooperate.\\n\\nRegarding your question about the typical weather in Arizona in April, I can tell you that it's usually partly sunny with a high near 80°F (27°C). However, I want to assure you that we take all feedback seriously and will do our best to improve our services for future guests.\\n\\nI must say, I love the idea of your song title, 'Here comes the sun but it never came'! It's a great creative expression of your experience.\\n\\nOnce again, thank you for your feedback. We value your opinion and appreciate your loyalty. If you have any other concerns or questions, please don't hesitate to reach out.\\n\\nBest regards,\\nSarah, Resident Manager\"} \n",
      "\n",
      "Final Email: {'email_draft': \"Dear George,\\n\\nThank you for taking the time to share your concerns about the weather during your recent stay at our resort. I'm so sorry to hear that the cloudy and overcast weather didn't meet your expectations. I understand how frustrating it can be when the weather doesn't cooperate.\\n\\nRegarding your question about the typical weather in Arizona in April, I can tell you that it's usually partly sunny with a high near 80°F (27°C). However, I want to assure you that we take all feedback seriously and will do our best to improve our services for future guests.\\n\\nI must say, I love the idea of your song title, 'Here comes the sun but it never came'! It's a great creative expression of your experience.\\n\\nOnce again, thank you for your feedback. We value your opinion and appreciate your loyalty. If you have any other concerns or questions, please don't hesitate to reach out.\\n\\nBest regards,\\nSarah, Resident Manager\"} \n",
      "\n",
      "Research Info: [Document(metadata={}, page_content=\"{'location': {'name': 'Global', 'region': 'Maguindanao', 'country': 'Filipinas', 'lat': 7.3958, 'lon': 124.3069, 'tz_id': 'Asia/Manila', 'localtime_epoch': 1742159945, 'localtime': '2025-03-17 05:19'}, 'current': {'last_updated_epoch': 1742159700, 'last_updated': '2025-03-17 05:15', 'temp_c': 23.2, 'temp_f': 73.8, 'is_day': 0, 'condition': {'text': 'Clear', 'icon': '//cdn.weatherapi.com/weather/64x64/night/113.png', 'code': 1000}, 'wind_mph': 2.9, 'wind_kph': 4.7, 'wind_degree': 83, 'wind_dir': 'E', 'pressure_mb': 1008.0, 'pressure_in': 29.76, 'precip_mm': 0.0, 'precip_in': 0.0, 'humidity': 93, 'cloud': 12, 'feelslike_c': 25.6, 'feelslike_f': 78.0, 'windchill_c': 23.2, 'windchill_f': 73.8, 'heatindex_c': 25.6, 'heatindex_f': 78.0, 'dewpoint_c': 22.0, 'dewpoint_f': 71.6, 'vis_km': 10.0, 'vis_miles': 6.0, 'uv': 0.0, 'gust_mph': 5.2, 'gust_kph': 8.4}}\\nSome of the storms could be severe. Partly sunny, with a high near 80. Breezy, with a south wind 10 to 20 mph, with gusts as high as 35 mph.\\nSUN MAR 16: NOTE: Our text alert system is currently down. Please refer to the snow reporter message on the website, Instagram and X/twitter for parking\\nThe top news stories from Hoboken and Jersey City for the week of March 16th, 2025, including a poke bowl spot and a French studio kitchen.\\nThe National Weather Service (NWS) in Melbourne has issued a Fire Weather Watch for Monday, March 17, from afternoon through 7 pm.\")] \n",
      "\n",
      "Info Needed: None \n",
      "\n",
      "Num Steps: 4 \n",
      "\n",
      "'Finished running: state_printer:'\n"
     ]
    }
   ],
   "source": [
    "from pprint import pprint\n",
    "# run the agent\n",
    "inputs = {\"initial_email\": EMAIL,\"research_info\": None, \"num_steps\":0}\n",
    "for output in app.stream(inputs):\n",
    "    for key, value in output.items():\n",
    "        pprint(f\"Finished running: {key}:\")"
   ]
  },
  {
   "cell_type": "code",
   "execution_count": 133,
   "metadata": {},
   "outputs": [
    {
     "name": "stdout",
     "output_type": "stream",
     "text": [
      "---CATEGORIZING INITIAL EMAIL---\n",
      "---ROUTE TO RESEARCH---\n",
      "research_info\n",
      "---ROUTE EMAIL TO RESEARCH INFO---\n",
      "---RESEARCH INFO SEARCHING---\n",
      "arizona weather april\n",
      "---DRAFT EMAIL WRITER---\n",
      "---ROUTE TO REWRITE---\n",
      "{'router_decision': 'no_rewrite'}\n",
      "no_rewrite\n",
      "---ROUTE EMAIL TO FINAL EMAIL---\n",
      "---NO REWRITE EMAIL ---\n",
      "---STATE PRINTER---\n",
      "Initial Email: HI there, \n",
      "\n",
      "I am emailing to say that the resort weather was way to cloudy and overcast. \n",
      "\n",
      "I wanted to write a song called 'Here comes the sun but it never came'\n",
      "\n",
      "What should be the weather in Arizona in April?\n",
      "\n",
      "I really hope you fix this next time.\n",
      "\n",
      "Thanks,\n",
      "George\n",
      " \n",
      "\n",
      "Email Category: 'customer_complaint' \n",
      "\n",
      "Draft Email: {'email_draft': \"Dear George,\\n\\nThank you for reaching out to us about your recent experience at our resort in Arizona. I'm so sorry to hear that the weather was not up to your expectations. We understand how important it is to have good weather during your vacation.\\n\\nI must say, I love the idea of your song 'Here comes the sun but it never came'! That's quite creative.\\n\\nRegarding your question about the weather in Arizona in April, I can provide you with some information. According to our research, April is a great time to visit Arizona, with average temperatures ranging from 18°C to 29°C. You can expect around 12 hours of sunshine per day, making it perfect for outdoor activities. There might be a few rainy days, but overall, the weather is usually comfortable during this time.\\n\\nWe appreciate your feedback and would like to assure you that we're taking your concerns seriously. We'll do our best to ensure that our resort provides the best possible experience for our guests.\\n\\nThank you again for your email, and we hope to see you again soon.\\n\\nBest regards,\\nSarah, Resident Manager\"} \n",
      "\n",
      "Final Email: {'email_draft': \"Dear George,\\n\\nThank you for reaching out to us about your recent experience at our resort in Arizona. I'm so sorry to hear that the weather was not up to your expectations. We understand how important it is to have good weather during your vacation.\\n\\nI must say, I love the idea of your song 'Here comes the sun but it never came'! That's quite creative.\\n\\nRegarding your question about the weather in Arizona in April, I can provide you with some information. According to our research, April is a great time to visit Arizona, with average temperatures ranging from 18°C to 29°C. You can expect around 12 hours of sunshine per day, making it perfect for outdoor activities. There might be a few rainy days, but overall, the weather is usually comfortable during this time.\\n\\nWe appreciate your feedback and would like to assure you that we're taking your concerns seriously. We'll do our best to ensure that our resort provides the best possible experience for our guests.\\n\\nThank you again for your email, and we hope to see you again soon.\\n\\nBest regards,\\nSarah, Resident Manager\"} \n",
      "\n",
      "Research Info: [Document(metadata={}, page_content=\"{'location': {'name': 'Arizona', 'region': 'Atlantida', 'country': 'Honduras', 'lat': 15.6333, 'lon': -87.3167, 'tz_id': 'America/Tegucigalpa', 'localtime_epoch': 1742225313, 'localtime': '2025-03-17 09:28'}, 'current': {'last_updated_epoch': 1742224500, 'last_updated': '2025-03-17 09:15', 'temp_c': 27.1, 'temp_f': 80.8, 'is_day': 1, 'condition': {'text': 'Partly cloudy', 'icon': '//cdn.weatherapi.com/weather/64x64/day/116.png', 'code': 1003}, 'wind_mph': 3.6, 'wind_kph': 5.8, 'wind_degree': 356, 'wind_dir': 'N', 'pressure_mb': 1019.0, 'pressure_in': 30.09, 'precip_mm': 0.49, 'precip_in': 0.02, 'humidity': 84, 'cloud': 75, 'feelslike_c': 30.6, 'feelslike_f': 87.1, 'windchill_c': 24.0, 'windchill_f': 75.2, 'heatindex_c': 26.1, 'heatindex_f': 79.0, 'dewpoint_c': 21.3, 'dewpoint_f': 70.3, 'vis_km': 10.0, 'vis_miles': 6.0, 'uv': 5.3, 'gust_mph': 4.2, 'gust_kph': 6.8}}\\n| --- | --- | --- | --- | --- | --- |\\n| Apr. 1 | \\nPartly cloudy\\n| 26° /12° | 3.1\\xa0mm | 6 |  |\\n| Apr. 2 | \\nSunny\\n| 29° /14° | 0\\xa0mm | 7 |  |\\n| Apr. 3 | \\nSunny\\n| 29° /16° | 0\\xa0mm | 7 |  |\\n| Apr. 4 | \\nSunny\\n| 29° /16° | 0\\xa0mm | 7 |  |\\n| Apr. 5 | \\nOvercast\\n| 28° /14° | 0\\xa0mm | 6 |  |\\n| Apr. 6 | \\nOvercast\\n| 27° /13° | 0\\xa0mm | 7 |  |\\n| Apr. 7 | \\nSunny\\n| 29° /14° | 0\\xa0mm | 7 |  |\\n| Apr. 8 | \\nSunny\\n| 30° /17° | 0\\xa0mm | 8 |  |\\n| Apr. 9 | \\nSunny\\n| 32° /17° | 0\\xa0mm | 8 |  |\\n| Apr. 10 | \\nSunny [...] April\\nJanuaryFebruaryMarch\\nApril\\nMayJuneJulyAugustSeptemberOctoberNovemberDecember\\nWeather in Arizona for April 2025\\nYour guide to Arizona weather in April - trends and predictions\\nTemperatures\\n\\nIn general, the average temperature in Arizona at the beginning of April is 28.1\\xa0°F. As the month progressed, temperatures tended to significantly warm up, reaching an average of 31.9\\xa0°F by the end of April.\\n\\nRain 🌧️ [...] Sunny\\n| 33° /19° | 0\\xa0mm | 8 |  |\\n| Apr. 22 | \\nSunny\\n| 32° /19° | 0\\xa0mm | 8 |  |\\n| Apr. 23 | \\nOvercast\\n| 31° /18° | 0\\xa0mm | 7 |  |\\n| Apr. 24 | \\nSunny\\n| 31° /19° | 0\\xa0mm | 8 |  |\\n| Apr. 25 | \\nSunny\\n| 32° /17° | 0\\xa0mm | 8 |  |\\n| Apr. 26 | \\nPartly cloudy\\n| 30° /17° | 0\\xa0mm | 7 |  |\\n| Apr. 27 | \\nPartly cloudy\\n| 30° /16° | 0\\xa0mm | 8 |  |\\n| Apr. 28 | \\nSunny\\n| 31° /18° | 0\\xa0mm | 8 |  |\\n| Apr. 29 | \\nSunny\\n| 33° /19° | 0\\xa0mm | 8 |  |\\n| Apr. 30 | \\nSunny\\n| 36° /21° | 0\\xa0mm | 9 |  |\\n| Next |\\nImportant Notice\\nLocation was added to My Locations\\nLocation was removed from My Locations\\nMarch\\nMay\\nArizona weather in April 2025\\nThe temperatures in Arizona in April are comfortable with low of 18°C and and high up to 29°C.\\nYou can expect a few rainy days in Arizona during April, but usually the weather is comfortable in April.\\nOur weather forecast can give you a great sense of what weather to expect in Arizona in April 2025. [...] | Sun | Mon | Tue | Wed | Thu | Fri | Sat |\\n| --- | --- | --- | --- | --- | --- | --- |\\n| \\n | \\n| 1  26° /16° | 2  28° /17° | 3  29° /18° | 4  28° /18° | 5  27° /17° |\\n| 6  26° /15° | 7  27° /16° | 8  29° /19° | 9  30° /19° | 10  30° /20° | 11  30° /18° | 12  29° /19° |\\n| 13  27° /18° | 14  26° /17° | 15  27° /17° | 16  30° /20° | 17  30° /21° | 18  30° /21° | 19  30° /20° |\\n| 20  31° /20° | 21  31° /20° | 22  32° /21° | 23  31° /21° | 24  32° /22° | 25  32° /21° | 26  31° /21° | [...] | Arizona in January |\\n| February | 21° / 11° | 2 | 26 | 0 | 31 mm | \\nGood\\n| Arizona in February |\\n| March | 25° / 14° | 1 | 30 | 0 | 24 mm | \\nPerfect\\n| Arizona in March |\\n| April | 29° / 18° | 1 | 29 | 0 | 9 mm | \\nGood\\n| Arizona in April |\\n| May | 33° / 21° | 0 | 31 | 0 | 4 mm | \\nGood\\n| Arizona in May |\\n| June | 39° / 27° | 0 | 30 | 0 | 6 mm | \\nBad\\n| Arizona in June |\\n| July | 39° / 30° | 4 | 27 | 0 | 64 mm | \\nBad\\n| Arizona in July |\\n| August | 39° / 30° | 3 | 28 | 0 | 54 mm | \\nBad\\nWeather in Phoenix in April 2025 (Arizona) - Detailed Weather Forecast for a Month\\n\\nAdd the current city\\nSearch\\n\\nWeather\\nArchive\\nWidgets\\n\\n°F\\n\\nWorld\\nUnited States\\nArizona\\nWeather in Phoenix\\n\\nWeather in Phoenix in April 2025\\nPhoenix Weather Forecast for April 2025, is based on previous years' statistical data.\\n201520162017201820192020202120222023202420252026\\nJanFebMarAprMayJunJulAugSepOctNovDec\\nApril\\nStart Week On\\nSunday\\nMonday\\n\\nSun\\nMon\\nTue\\nWed\\nThu\\nFri\\n\\nSat\\n\\n\\n1\\n+82°+68°\\n\\n\\n2\\n+82°+66°\\n\\n\\n3\\n+82°+68° [...] 4\\n+81°+66°\\n\\n\\n5\\n+81°+66°\\n\\n\\n6\\n+82°+68°\\n\\n\\n7\\n+84°+68°\\n\\n\\n8\\n+84°+70°\\n\\n\\n9\\n+82°+66°\\n\\n\\n10\\n+82°+68°\\n\\n\\n11\\n+81°+66°\\n\\n\\n12\\n+82°+70°\\n\\n\\n13\\n+84°+70°\\n\\n\\n14\\n+84°+72°\\n\\n\\n15\\n+82°+66°\\n\\n\\n16\\n+84°+68°\\n\\n\\n17\\n+82°+68°\\n\\n\\n18\\n+86°+70°\\n\\n\\n19\\n+84°+70°\\n\\n\\n20\\n+86°+72°\\n\\n\\n21\\n+86°+72°\\n\\n\\n22\\n+86°+72°\\n\\n\\n23\\n+84°+70°\\n\\n\\n24\\n+84°+72°\\n\\n\\n25\\n+88°+73°\\n\\n\\n26\\n+86°+72°\\n\\n\\n27\\n+86°+72°\\n\\n\\n28\\n+90°+75°\\n\\n\\n29\\n+86°+73°\\n\\n\\n30\\n+88°+73°\\n\\n\\nExtended weather forecast in Phoenix\\nHourlyWeek10-Day14-Day30-DayYear [...] Weather in large and nearby cities\\nWeather in Washington, D.C.+36°\\nSells+57°\\nMesa+61°\\nSurprise+63°\\nTempe+63°\\nTempe Junction+63°\\nTucson+54°\\nWinslow+48°\\nYuma+66°\\nScottsdale+61°\\nPrescott Valley+45°\\nCasa Grande+57°\\nCasas Adobes+54°\\nChandler+61°\\nFlagstaff+37°\\nGilbert+61°\\nMaryvale Village+63°\\nDrexel Heights+54°\\nMinimum and maximum\\nworld's temperature today\\nRussia\\nOymyakon\\nday\\n-42°F\\nnight\\n-63°F\\nAustralia\\nRoebourne\\nday\\n+109°F\\nnight\\n+86°F\\nServices\\nSupport\\n\\nUser agreement\\nFeedback\\nAbout Us\\nArizona weather in April 2025, USA: How hot & sunny?\\n\\n\\nWeather\\nDeals\\nInspiration\\nNews\\nTravel advice\\nHolidays\\nExtras\\nInsights\\n\\n\\n\\n\\nHome\\nNorth America\\nUSA\\nArizona\\nWhere is hot in April?\\n\\nArizona weather in April 2025\\nExpect 29°C daytime maximum temperatures in the shade with on average 12 hours of sunshine per day in Arizona in April. There is usually 2 days with some rainfall and 7 mm of average monthly rainfall in April. [...] 29\\n29°C max day temperature\\n*   12\\n12 hours of sunshine per day\\n*   2\\n2 days with some rainfall\\n*   11\\n11°C min night temperature\\n*   13\\n13 hours of daylight per day\\n*   L\\nLow heat & humidity\\n*   7\\n7 mm of monthly rainfall\\n*   8\\n8 (Very High) UV index\\n\\n\\nMore about Arizona\\n\\n\\n\\nOverview\\n*   \\nBest time to visit\\n*   \\nWeather by month\\n*   \\n5-day weather forecast\\n*   \\nDestinations\\n*   \\nTravel advice\\n*   \\nDeals & discounts [...] Browse the sunrise and sunset times for Arizona in April 2025. Select a month to view Arizona sunrise and sunset times for the next 12 months. The Arizona sunrise and sunset times shown below are for Phoenix.\\nJanFebMarAprMayJunJulAugSepOctNovDec\\n| Date | Sunrise times | Sunset times |\\n| --- | --- | --- |\\n| Tuesday, 1st April 2025 | 06:15 | 18:49 |\\n| Tuesday, 15th April 2025 | 05:58 | 19:00 |\\n| Wednesday, 30th April 2025 | 05:41 | 19:11 |\\nBe inspired\")] \n",
      "\n",
      "Info Needed: None \n",
      "\n",
      "Num Steps: 4 \n",
      "\n",
      "{'email_draft': \"Dear George,\\n\\nThank you for reaching out to us about your recent experience at our resort in Arizona. I'm so sorry to hear that the weather was not up to your expectations. We understand how important it is to have good weather during your vacation.\\n\\nI must say, I love the idea of your song 'Here comes the sun but it never came'! That's quite creative.\\n\\nRegarding your question about the weather in Arizona in April, I can provide you with some information. According to our research, April is a great time to visit Arizona, with average temperatures ranging from 18°C to 29°C. You can expect around 12 hours of sunshine per day, making it perfect for outdoor activities. There might be a few rainy days, but overall, the weather is usually comfortable during this time.\\n\\nWe appreciate your feedback and would like to assure you that we're taking your concerns seriously. We'll do our best to ensure that our resort provides the best possible experience for our guests.\\n\\nThank you again for your email, and we hope to see you again soon.\\n\\nBest regards,\\nSarah, Resident Manager\"}\n"
     ]
    }
   ],
   "source": [
    "output = app.invoke(inputs)\n",
    "\n",
    "print(output['final_email'])"
   ]
  },
  {
   "cell_type": "code",
   "execution_count": null,
   "metadata": {},
   "outputs": [],
   "source": [
    "…or create a new repository on the command line\n",
    "echo \"# multi_agent_email_response_generator\" >> README.md\n",
    "git init\n",
    "git add README.md\n",
    "git commit -m \"first commit\"\n",
    "git branch -M main\n",
    "git remote add origin https://github.com/muxair080/multi_agent_email_response_generator.git\n",
    "git push -u origin main"
   ]
  }
 ],
 "metadata": {
  "kernelspec": {
   "display_name": "venv",
   "language": "python",
   "name": "python3"
  },
  "language_info": {
   "codemirror_mode": {
    "name": "ipython",
    "version": 3
   },
   "file_extension": ".py",
   "mimetype": "text/x-python",
   "name": "python",
   "nbconvert_exporter": "python",
   "pygments_lexer": "ipython3",
   "version": "3.12.4"
  }
 },
 "nbformat": 4,
 "nbformat_minor": 2
}
